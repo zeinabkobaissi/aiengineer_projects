{
  "cells": [
    {
      "cell_type": "markdown",
      "metadata": {
        "id": "view-in-github",
        "colab_type": "text"
      },
      "source": [
        "<a href=\"https://colab.research.google.com/github/zeinabkobaissi/aiengineer_projects/blob/main/finetuning_exercise_clean.ipynb\" target=\"_parent\"><img src=\"https://colab.research.google.com/assets/colab-badge.svg\" alt=\"Open In Colab\"/></a>"
      ]
    },
    {
      "cell_type": "code",
      "execution_count": null,
      "metadata": {
        "id": "6W4HZiVDVkl4"
      },
      "outputs": [],
      "source": [
        "!wget -nc https://www.dropbox.com/s/lkd0eklmi64m9xm/AirlineTweets.csv"
      ]
    },
    {
      "cell_type": "code",
      "execution_count": null,
      "metadata": {
        "id": "VFv66MOXVkl5"
      },
      "outputs": [],
      "source": [
        "import pandas as pd\n",
        "import numpy as np\n",
        "import seaborn as sns\n",
        "import torch\n",
        "from sklearn.metrics import accuracy_score,f1_score,confusion_matrix\n",
        "from sklearn.model_selection import train_test_split"
      ]
    },
    {
      "cell_type": "code",
      "execution_count": null,
      "metadata": {
        "id": "a6zKRkqZVkl7"
      },
      "outputs": [],
      "source": [
        "df=pd.read_csv('AirlineTweets.csv')"
      ]
    },
    {
      "cell_type": "code",
      "execution_count": null,
      "metadata": {
        "id": "FnnjcCJmVkl8"
      },
      "outputs": [],
      "source": [
        "df.head()"
      ]
    },
    {
      "cell_type": "code",
      "execution_count": null,
      "metadata": {
        "id": "dyQU3P6hVkl8"
      },
      "outputs": [],
      "source": [
        "df.info()"
      ]
    },
    {
      "cell_type": "code",
      "execution_count": null,
      "metadata": {
        "id": "f_0tSznPVkl9"
      },
      "outputs": [],
      "source": [
        "df.isna().sum()"
      ]
    },
    {
      "cell_type": "code",
      "execution_count": null,
      "metadata": {
        "id": "H_VMvtY-Vkl-"
      },
      "outputs": [],
      "source": [
        "df=df[['airline_sentiment','text']]\n",
        "df"
      ]
    },
    {
      "cell_type": "code",
      "execution_count": null,
      "metadata": {
        "id": "E_WwsbvaVkl-"
      },
      "outputs": [],
      "source": [
        "df['airline_sentiment'].hist()"
      ]
    },
    {
      "cell_type": "code",
      "execution_count": null,
      "metadata": {
        "id": "s3MWBACXVkl_"
      },
      "outputs": [],
      "source": [
        "target_map = { 'positive': 1, 'negative': 0, 'neutral': 2}\n",
        "df['target'] = df['airline_sentiment'].map(target_map)"
      ]
    },
    {
      "cell_type": "code",
      "execution_count": null,
      "metadata": {
        "id": "6M3EFuu1VkmA"
      },
      "outputs": [],
      "source": [
        "df1=df[['text','target']]\n",
        "df1.columns=['sentence','label']\n",
        "df1.to_csv('data.csv',index=False)\n"
      ]
    },
    {
      "cell_type": "code",
      "execution_count": null,
      "metadata": {
        "id": "T1OZxt_zVkmA"
      },
      "outputs": [],
      "source": [
        "df1"
      ]
    },
    {
      "cell_type": "code",
      "execution_count": null,
      "metadata": {
        "id": "V29BRwzxVkmA"
      },
      "outputs": [],
      "source": [
        "!pip3 install datasets"
      ]
    },
    {
      "cell_type": "code",
      "execution_count": null,
      "metadata": {
        "id": "I51AQB0hVkmB"
      },
      "outputs": [],
      "source": [
        "from datasets import load_dataset\n",
        "raw_dataset=load_dataset('csv',data_files='data.csv')"
      ]
    },
    {
      "cell_type": "code",
      "execution_count": null,
      "metadata": {
        "id": "qkXCem6lVkmB"
      },
      "outputs": [],
      "source": [
        "raw_dataset"
      ]
    },
    {
      "cell_type": "code",
      "execution_count": null,
      "metadata": {
        "id": "ydLE0joTVkmB"
      },
      "outputs": [],
      "source": [
        "split=raw_dataset['train'].train_test_split(test_size=0.3,seed=42)"
      ]
    },
    {
      "cell_type": "code",
      "execution_count": null,
      "metadata": {
        "id": "NUHjQvbnVkmB"
      },
      "outputs": [],
      "source": [
        "split"
      ]
    },
    {
      "cell_type": "code",
      "execution_count": null,
      "metadata": {
        "id": "mBZowbjoVkmC"
      },
      "outputs": [],
      "source": [
        "from transformers import AutoTokenizer"
      ]
    },
    {
      "cell_type": "code",
      "execution_count": null,
      "metadata": {
        "id": "jErb3bGhVkmC"
      },
      "outputs": [],
      "source": [
        "checkpoint='bert-base-cased'\n",
        "tokenizer = AutoTokenizer.from_pretrained(checkpoint)"
      ]
    },
    {
      "cell_type": "code",
      "execution_count": null,
      "metadata": {
        "id": "LMI6R2l2VkmC"
      },
      "outputs": [],
      "source": [
        "def tokenize_fn(batch):\n",
        "  return tokenizer(batch['sentence'], truncation = True)"
      ]
    },
    {
      "cell_type": "code",
      "execution_count": null,
      "metadata": {
        "id": "bafytLE-VkmC"
      },
      "outputs": [],
      "source": [
        "tokenized_dataset = split.map(tokenize_fn, batched = True)"
      ]
    },
    {
      "cell_type": "code",
      "execution_count": null,
      "metadata": {
        "id": "EooZ087aVkmC"
      },
      "outputs": [],
      "source": [
        "##  finetuning architecture"
      ]
    },
    {
      "cell_type": "code",
      "execution_count": null,
      "metadata": {
        "id": "1QefXJMgVkmD"
      },
      "outputs": [],
      "source": [
        "from transformers import AutoModelForSequenceClassification,TrainingArguments,Trainer"
      ]
    },
    {
      "cell_type": "code",
      "execution_count": null,
      "metadata": {
        "id": "x_wix2M9VkmD"
      },
      "outputs": [],
      "source": [
        " model = AutoModelForSequenceClassification.from_pretrained(checkpoint,num_labels=3)"
      ]
    },
    {
      "cell_type": "code",
      "execution_count": null,
      "metadata": {
        "id": "_4l9BviYVkmD"
      },
      "outputs": [],
      "source": [
        "!pip3 install torchinfo"
      ]
    },
    {
      "cell_type": "code",
      "execution_count": null,
      "metadata": {
        "id": "_e_v5eqQVkmD"
      },
      "outputs": [],
      "source": [
        "from torchinfo import summary\n",
        "summary(model)"
      ]
    },
    {
      "cell_type": "code",
      "execution_count": null,
      "metadata": {
        "id": "OQIb8gPaVkmD"
      },
      "outputs": [],
      "source": [
        "import transformers\n",
        "print(transformers.__version__)\n"
      ]
    },
    {
      "cell_type": "code",
      "execution_count": null,
      "metadata": {
        "id": "taUZ2nm3VkmD"
      },
      "outputs": [],
      "source": [
        "training_args = TrainingArguments(output_dir='training_dir',\n",
        "                                  eval_strategy='epoch',\n",
        "                                  save_strategy='epoch',\n",
        "                                  num_train_epochs=3,\n",
        "                                  report_to='none',\n",
        "                                  per_device_train_batch_size=16,\n",
        "                                  per_device_eval_batch_size=64,\n",
        "                                  )"
      ]
    },
    {
      "cell_type": "code",
      "execution_count": null,
      "metadata": {
        "id": "T6I9fq8KVkmE"
      },
      "outputs": [],
      "source": [
        "import transformers\n",
        "print(transformers.__version__)\n",
        "from transformers import TrainingArguments\n",
        "print(TrainingArguments.__init__.__code__.co_varnames)\n"
      ]
    },
    {
      "cell_type": "code",
      "execution_count": null,
      "metadata": {
        "id": "5BRWfZ_oVkmE"
      },
      "outputs": [],
      "source": [
        "## metrics\n",
        "def compute_metrics(logits_and_labels):\n",
        "  logits,labels = logits_and_labels\n",
        "  predictions=np.argmax(logits,axis=1)\n",
        "  acc= np.mean(labels==predictions)\n",
        "  f1= f1_score(predictions,labels,average='micro')\n",
        "  return {'accuracy' : acc , 'f1score': f1}\n"
      ]
    },
    {
      "cell_type": "code",
      "execution_count": null,
      "metadata": {
        "id": "CVsTz6gyVkmE"
      },
      "outputs": [],
      "source": [
        "## trainer\n",
        "trainer = Trainer(model,\n",
        "                  training_args,\n",
        "                  train_dataset = tokenized_dataset[\"train\"],\n",
        "                  eval_dataset = tokenized_dataset[\"test\"],\n",
        "                  tokenizer=tokenizer,\n",
        "                  compute_metrics=compute_metrics)"
      ]
    },
    {
      "cell_type": "code",
      "execution_count": null,
      "metadata": {
        "id": "SNr23s6IVkmE"
      },
      "outputs": [],
      "source": [
        "trainer.train()"
      ]
    },
    {
      "cell_type": "code",
      "execution_count": null,
      "metadata": {
        "id": "_M_etT_KVkmE"
      },
      "outputs": [],
      "source": [
        "## start making predictions\n",
        "from transformers import pipeline\n",
        "saved_model=pipeline('text-classification',model='training_dir/checkpoint-1282')\n"
      ]
    },
    {
      "cell_type": "code",
      "execution_count": null,
      "metadata": {
        "id": "y72v6fpyVkmF"
      },
      "outputs": [],
      "source": []
    },
    {
      "cell_type": "code",
      "execution_count": null,
      "metadata": {
        "id": "OkmRjSMHVkmF"
      },
      "outputs": [],
      "source": [
        "device = 0 if torch.cuda.is_available() else -1"
      ]
    },
    {
      "cell_type": "code",
      "execution_count": null,
      "metadata": {
        "id": "xzFA02NWVkmF"
      },
      "outputs": [],
      "source": [
        "from transformers import pipeline\n",
        "saved_model=pipeline('text-classification',model='training_dir/checkpoint-1282',device=device)\n"
      ]
    },
    {
      "cell_type": "code",
      "execution_count": null,
      "metadata": {
        "id": "G9I28D1uVkmF"
      },
      "outputs": [],
      "source": [
        "predictions=saved_model(split['test']['sentence'][:10])"
      ]
    },
    {
      "cell_type": "code",
      "execution_count": null,
      "metadata": {
        "id": "dnh5T0R4VkmF"
      },
      "outputs": [],
      "source": [
        "predictions"
      ]
    },
    {
      "cell_type": "code",
      "execution_count": null,
      "metadata": {
        "id": "du2hwkvoVkmF"
      },
      "outputs": [],
      "source": [
        "!pip install nbstripout"
      ]
    },
    {
      "cell_type": "code",
      "execution_count": null,
      "metadata": {
        "id": "OMeeWoUgVkmF"
      },
      "outputs": [],
      "source": [
        "from google.colab import drive\n",
        "drive.mount('/content/drive')\n"
      ]
    },
    {
      "cell_type": "code",
      "execution_count": null,
      "metadata": {
        "id": "H2Wa_DMcVkmL"
      },
      "outputs": [],
      "source": [
        "%cd \"/content/drive/My Drive/Colab Notebooks\"\n"
      ]
    },
    {
      "cell_type": "code",
      "execution_count": null,
      "metadata": {
        "id": "57vWDMukVkmL"
      },
      "outputs": [],
      "source": [
        "!ls"
      ]
    },
    {
      "cell_type": "code",
      "execution_count": null,
      "metadata": {
        "id": "Z79TAPLCVkmM"
      },
      "outputs": [],
      "source": [
        "!nbstripout finetuning-exercise.ipynb\n"
      ]
    }
  ],
  "metadata": {
    "language_info": {
      "name": "python"
    },
    "colab": {
      "provenance": [],
      "include_colab_link": true
    }
  },
  "nbformat": 4,
  "nbformat_minor": 0
}